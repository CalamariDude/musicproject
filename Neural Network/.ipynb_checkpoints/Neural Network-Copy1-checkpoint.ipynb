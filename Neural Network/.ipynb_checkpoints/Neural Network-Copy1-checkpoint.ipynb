{
 "cells": [
  {
   "cell_type": "markdown",
   "metadata": {},
   "source": [
    "## Generate Data"
   ]
  },
  {
   "cell_type": "code",
   "execution_count": 151,
   "metadata": {},
   "outputs": [
    {
     "name": "stdout",
     "output_type": "stream",
     "text": [
      "2 classes\n",
      "Shape of data is :  (200, 2)\n",
      "Shape of targets :  (200, 2)\n"
     ]
    }
   ],
   "source": [
    "import random as rand\n",
    "import numpy as np \n",
    "import matplotlib.pyplot as plt\n",
    "size_of_each_class = 100\n",
    "distributions = [[30,5],\n",
    "                [-100, 15]]\n",
    "num_classes = len(distributions)\n",
    "print(num_classes, \"classes\")\n",
    "data = []\n",
    "targets = []\n",
    "dimensions = 2\n",
    "i = 0\n",
    "#For each distribution, generate guassian data and add to our data\n",
    "for mu, sigma in distributions:\n",
    "    #Generate size_of_each_class number of normal distibution datapoints\n",
    "    full_dimension = []\n",
    "    for j in range(dimensions):\n",
    "        gaussian_data = np.random.normal(mu, sigma, size_of_each_class)\n",
    "        full_dimension.append(gaussian_data)\n",
    "    full_dimension = np.asarray(full_dimension)\n",
    "    if(len(data) != 0) :\n",
    "        data = np.append(data, np.transpose(full_dimension), axis = 0)\n",
    "    else :\n",
    "        data = np.transpose(full_dimension)\n",
    "    \n",
    "    #Generate a target same size as each class size        \n",
    "    for point in range(size_of_each_class):\n",
    "        gen_target = np.zeros((num_classes))\n",
    "        gen_target[i] += 1\n",
    "        targets.append(gen_target)\n",
    "    i += 1\n",
    "\n",
    "# targets = np.asarray(targets).reshape(200,num_classes)\n",
    "# print(targets)\n",
    "\n",
    "print('Shape of data is : ', data.shape)\n",
    "print('Shape of targets : ', np.asarray(targets).shape)\n",
    "\n"
   ]
  },
  {
   "cell_type": "markdown",
   "metadata": {},
   "source": [
    "# Create Model "
   ]
  },
  {
   "cell_type": "code",
   "execution_count": 162,
   "metadata": {},
   "outputs": [],
   "source": [
    "import numpy as np\n",
    "import random\n",
    "\n",
    "class nn:\n",
    "    def __init__(self, hiddenlayers = 0, neurons=5):\n",
    "        self.hiddenlayers = hiddenlayers\n",
    "        self.neurons = neurons\n",
    "    def activation(self, x):\n",
    "        result = 1/ (1 + np.exp(-x))\n",
    "        return result\n",
    "    def deactivate(self, x):\n",
    "        return self.activation(x) * (1-self.activation(x))\n",
    "    def cost(self, y, response):\n",
    "        return np.linalg.norm(y-response)**2\n",
    "    def train(self, x, y, epochs = 5, alpha = .01):\n",
    "        x = np.asarray(x)\n",
    "        y = np.asarray(y)\n",
    "        w = []\n",
    "        \n",
    "        if self.hiddenlayers == 0:\n",
    "            w.append(np.random.rand(x.shape[1], y.shape[1]))\n",
    "        else:\n",
    "            w.append(np.random.rand(x.shape[1], self.neurons))\n",
    "            for i in range(self.hiddenlayers-1):\n",
    "                w.append(np.random.rand(self.neurons, self.neurons))\n",
    "            w.append(np.random.rand(self.neurons, y.shape[1]))\n",
    "        print('Neural Network structure')\n",
    "        w = np.asarray(w)\n",
    "        for i in range(len(w)):\n",
    "            print(\"Layer\",i,\": \", w[i].shape)\n",
    "        \n",
    "        #Now its time to train\n",
    "        for epoch in range(epochs):\n",
    "            loss = 0\n",
    "            for (datapoint, target) in zip(x, y):\n",
    "                xs = []\n",
    "                ys = []\n",
    "                xs.append(datapoint)\n",
    "                ys.append(datapoint)\n",
    "                \n",
    "                #Feed forward\n",
    "                for i in range(len(w)):\n",
    "                    weights = w[i]\n",
    "                    z = weights.T @ ys[-1]\n",
    "                    xs.append(z)\n",
    "                    ys.append(self.activation(z))\n",
    "                residvec = ys[-1] - target\n",
    "                residual = self.cost(ys[-1], target)\n",
    "                ys.pop(0) #don't need this\n",
    "                loss += residual\n",
    "                ##Now its time to back propogate\n",
    "                gradients = []\n",
    "#                 print(\"vars\", self.deactivate(xs[-1]).shape, residvec.shape )\n",
    "                lastgrad = self.deactivate(xs[-1]) * residvec\n",
    "#                 print(\"resulting\", lastgrad)\n",
    "                gradients.append(lastgrad)\n",
    "                #Get all the gradients\n",
    "                for i in range(len(w)-1):\n",
    "#                     print(\"vars\", self.deactivate(xs[len(xs)-i-2]).shape, w[len(w)-i-1].shape, gradients[i].shape )\n",
    "                    nextgrad = self.deactivate(xs[len(xs)-i-2]).reshape((self.deactivate(xs[len(xs)-i-2]).shape[0],1)) *  w[len(w)-i-1] @ gradients[i].reshape((gradients[i].shape[0],1)) \n",
    "#                     print(\"resulting\", nextgrad.shape)\n",
    "                    gradients.append(nextgrad)\n",
    "#                 print(\"Gradient layers = \", len(gradients))\n",
    "#                 for gradient in gradients:\n",
    "#                     print(\"_ \", gradient.shape)\n",
    "                #Update weights\n",
    "#                 print(\"updating weights___________\")\n",
    "                for i in range(len(w)):\n",
    "                    weights = w[len(w)-1-i]\n",
    "#                     print(\"vars - need\", weights.shape, \"=\", ys[len(ys)-2 - i].shape, gradients[i].shape )\n",
    "                    weights -= alpha * ys[len(ys)-2 - i].reshape((ys[len(ys)-2 - i].shape[0],1)) @ gradients[i].reshape((gradients[i].shape[0],1)).T\n",
    "                    w[len(w)-1-i] = weights\n",
    "#                 print(\"___________________________\")\n",
    "            print(\"loss = \" , loss)\n",
    "        self.w = w\n",
    "    def predict(self, data):\n",
    "        results = []\n",
    "        for point in data:\n",
    "            xs = []\n",
    "            ys = []\n",
    "            xs.append(point)\n",
    "            ys.append(point)\n",
    "\n",
    "            #Feed forward\n",
    "            for i in range(len(self.w)):\n",
    "                weights = self.w[i]\n",
    "                z = weights.T @ ys[-1]\n",
    "                xs.append(z)\n",
    "                ys.append(self.activation(z))\n",
    "            results.append(ys[-1])\n",
    "        return results"
   ]
  },
  {
   "cell_type": "markdown",
   "metadata": {},
   "source": [
    "## Train"
   ]
  },
  {
   "cell_type": "code",
   "execution_count": 163,
   "metadata": {},
   "outputs": [
    {
     "name": "stdout",
     "output_type": "stream",
     "text": [
      "Neural Network structure\n",
      "Layer 0 :  (2, 2)\n",
      "loss =  199.99702368837757\n",
      "loss =  199.99702147702897\n",
      "loss =  199.99701926237225\n",
      "loss =  199.99701704439974\n",
      "loss =  199.99701482310422\n",
      "loss =  199.99701259847814\n",
      "loss =  199.9970103705139\n",
      "loss =  199.99700813920413\n",
      "loss =  199.99700590454103\n",
      "loss =  199.99700366651726\n"
     ]
    }
   ],
   "source": [
    "nn = nn()\n",
    "nn.train(data, targets, epochs=10)\n"
   ]
  },
  {
   "cell_type": "code",
   "execution_count": 165,
   "metadata": {},
   "outputs": [
    {
     "name": "stdout",
     "output_type": "stream",
     "text": [
      "[array([1.        , 0.99998425]), array([1.        , 0.99999531]), array([1.       , 0.9999967])]\n",
      "[array([1., 0.]), array([1., 0.]), array([1., 0.])]\n"
     ]
    }
   ],
   "source": [
    "print(nn.predict(data[:3]))\n",
    "print(targets[:3])"
   ]
  },
  {
   "cell_type": "code",
   "execution_count": null,
   "metadata": {},
   "outputs": [],
   "source": []
  },
  {
   "cell_type": "code",
   "execution_count": null,
   "metadata": {},
   "outputs": [],
   "source": []
  }
 ],
 "metadata": {
  "kernelspec": {
   "display_name": "Python 3",
   "language": "python",
   "name": "python3"
  },
  "language_info": {
   "codemirror_mode": {
    "name": "ipython",
    "version": 3
   },
   "file_extension": ".py",
   "mimetype": "text/x-python",
   "name": "python",
   "nbconvert_exporter": "python",
   "pygments_lexer": "ipython3",
   "version": "3.7.4"
  }
 },
 "nbformat": 4,
 "nbformat_minor": 2
}
